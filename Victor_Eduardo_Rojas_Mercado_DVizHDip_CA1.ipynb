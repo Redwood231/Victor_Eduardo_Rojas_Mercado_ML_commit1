{
 "cells": [
  {
   "cell_type": "code",
   "execution_count": 2,
   "id": "a2601ffb-b79c-4717-a3a3-6e09773f4ad6",
   "metadata": {},
   "outputs": [],
   "source": [
    "import pandas as pd\n",
    "import seaborn as sns\n",
    "import matplotlib.pyplot as plt"
   ]
  },
  {
   "cell_type": "raw",
   "id": "2442d962-ae8d-4637-8a43-c3b1c339146a",
   "metadata": {},
   "source": [
    "The dataset is stacked utilizing pandas from a CSV record named \"vgsalescsv\"."
   ]
  },
  {
   "cell_type": "code",
   "execution_count": 3,
   "id": "1ef4ebe5-9a0f-48f5-9e37-d67bfb315932",
   "metadata": {},
   "outputs": [],
   "source": [
    "game= pd.read_csv('vgsales.csv')"
   ]
  },
  {
   "cell_type": "code",
   "execution_count": 4,
   "id": "16eddec0-b03c-4129-b899-f6c6347102c7",
   "metadata": {},
   "outputs": [
    {
     "data": {
      "text/plain": [
       "(16719, 16)"
      ]
     },
     "execution_count": 4,
     "metadata": {},
     "output_type": "execute_result"
    }
   ],
   "source": [
    "game.shape"
   ]
  },
  {
   "cell_type": "raw",
   "id": "4a63e34d-f33a-4abb-b192-ae6d9e65acf8",
   "metadata": {},
   "source": [
    "We can se that the number of observations are 16719 and the number of attributes in the data is 16"
   ]
  },
  {
   "cell_type": "code",
   "execution_count": 5,
   "id": "000e35d4-3453-4cea-9c3a-50c323e871ff",
   "metadata": {},
   "outputs": [
    {
     "name": "stdout",
     "output_type": "stream",
     "text": [
      "<class 'pandas.core.frame.DataFrame'>\n",
      "RangeIndex: 16719 entries, 0 to 16718\n",
      "Data columns (total 16 columns):\n",
      " #   Column           Non-Null Count  Dtype  \n",
      "---  ------           --------------  -----  \n",
      " 0   Name             16717 non-null  object \n",
      " 1   Platform         16719 non-null  object \n",
      " 2   Year_of_Release  16450 non-null  float64\n",
      " 3   Genre            16717 non-null  object \n",
      " 4   Publisher        16665 non-null  object \n",
      " 5   NA_Sales         16719 non-null  float64\n",
      " 6   EU_Sales         16719 non-null  float64\n",
      " 7   JP_Sales         16719 non-null  float64\n",
      " 8   Other_Sales      16719 non-null  float64\n",
      " 9   Global_Sales     16719 non-null  float64\n",
      " 10  Critic_Score     8137 non-null   float64\n",
      " 11  Critic_Count     8137 non-null   float64\n",
      " 12  User_Score       10015 non-null  object \n",
      " 13  User_Count       7590 non-null   float64\n",
      " 14  Developer        10096 non-null  object \n",
      " 15  Rating           9950 non-null   object \n",
      "dtypes: float64(9), object(7)\n",
      "memory usage: 2.0+ MB\n"
     ]
    }
   ],
   "source": [
    "game.info()"
   ]
  },
  {
   "cell_type": "code",
   "execution_count": 6,
   "id": "1d300c3c-49ee-4abb-a7a3-cb9eb232aabe",
   "metadata": {},
   "outputs": [
    {
     "name": "stdout",
     "output_type": "stream",
     "text": [
      "Data Set Size: (16719, 16)\n",
      "Number of Attributes: 16\n",
      "Missing Values: 46716\n",
      "Number of Observations: 16719\n"
     ]
    }
   ],
   "source": [
    "print(\"Data Set Size:\", game.shape)\n",
    "print(\"Number of Attributes:\", len(game.columns))\n",
    "print(\"Missing Values:\", game.isnull().sum().sum())\n",
    "print(\"Number of Observations:\", len(game))"
   ]
  },
  {
   "cell_type": "raw",
   "id": "42e10d1e-aceb-46fc-b821-5e3585aeafb9",
   "metadata": {},
   "source": [
    "Based on the data set characterization provided, we can see that there are missing qualities present in some sections. These missing features must be reasonably addressed to ensure the reliability of the data examination. Additionally, a couple of sections are missing a few features, while others are missing a slightly larger number of features. To manage missing features, various frameworks can be used depending on the possibility of the data and the specific fragments influenced."
   ]
  },
  {
   "cell_type": "raw",
   "id": "1985ab54-2c07-49c0-a791-fc66b27184ba",
   "metadata": {},
   "source": [
    "EXAMINING THE MISSING VALUES"
   ]
  },
  {
   "cell_type": "code",
   "execution_count": 7,
   "id": "bef33365-fd11-49c2-adcd-d3836340109e",
   "metadata": {},
   "outputs": [
    {
     "data": {
      "text/plain": [
       "Name                  2\n",
       "Platform              0\n",
       "Year_of_Release     269\n",
       "Genre                 2\n",
       "Publisher            54\n",
       "NA_Sales              0\n",
       "EU_Sales              0\n",
       "JP_Sales              0\n",
       "Other_Sales           0\n",
       "Global_Sales          0\n",
       "Critic_Score       8582\n",
       "Critic_Count       8582\n",
       "User_Score         6704\n",
       "User_Count         9129\n",
       "Developer          6623\n",
       "Rating             6769\n",
       "dtype: int64"
      ]
     },
     "execution_count": 7,
     "metadata": {},
     "output_type": "execute_result"
    }
   ],
   "source": [
    "game.isnull().sum()"
   ]
  },
  {
   "cell_type": "code",
   "execution_count": 8,
   "id": "123bc1ac-17b7-4d8f-916b-7b0070e29307",
   "metadata": {},
   "outputs": [
    {
     "data": {
      "text/html": [
       "<div>\n",
       "<style scoped>\n",
       "    .dataframe tbody tr th:only-of-type {\n",
       "        vertical-align: middle;\n",
       "    }\n",
       "\n",
       "    .dataframe tbody tr th {\n",
       "        vertical-align: top;\n",
       "    }\n",
       "\n",
       "    .dataframe thead th {\n",
       "        text-align: right;\n",
       "    }\n",
       "</style>\n",
       "<table border=\"1\" class=\"dataframe\">\n",
       "  <thead>\n",
       "    <tr style=\"text-align: right;\">\n",
       "      <th></th>\n",
       "      <th>Name</th>\n",
       "      <th>Platform</th>\n",
       "      <th>Year_of_Release</th>\n",
       "      <th>Genre</th>\n",
       "      <th>Publisher</th>\n",
       "      <th>NA_Sales</th>\n",
       "      <th>EU_Sales</th>\n",
       "      <th>JP_Sales</th>\n",
       "      <th>Other_Sales</th>\n",
       "      <th>Global_Sales</th>\n",
       "      <th>Critic_Score</th>\n",
       "      <th>Critic_Count</th>\n",
       "      <th>User_Score</th>\n",
       "      <th>User_Count</th>\n",
       "      <th>Developer</th>\n",
       "      <th>Rating</th>\n",
       "    </tr>\n",
       "  </thead>\n",
       "  <tbody>\n",
       "    <tr>\n",
       "      <th>0</th>\n",
       "      <td>Wii Sports</td>\n",
       "      <td>Wii</td>\n",
       "      <td>2006.0</td>\n",
       "      <td>Sports</td>\n",
       "      <td>Nintendo</td>\n",
       "      <td>41.36</td>\n",
       "      <td>28.96</td>\n",
       "      <td>3.77</td>\n",
       "      <td>8.45</td>\n",
       "      <td>82.53</td>\n",
       "      <td>76.0</td>\n",
       "      <td>51.0</td>\n",
       "      <td>8</td>\n",
       "      <td>322.0</td>\n",
       "      <td>Nintendo</td>\n",
       "      <td>E</td>\n",
       "    </tr>\n",
       "    <tr>\n",
       "      <th>1</th>\n",
       "      <td>Super Mario Bros.</td>\n",
       "      <td>NES</td>\n",
       "      <td>1985.0</td>\n",
       "      <td>Platform</td>\n",
       "      <td>Nintendo</td>\n",
       "      <td>29.08</td>\n",
       "      <td>3.58</td>\n",
       "      <td>6.81</td>\n",
       "      <td>0.77</td>\n",
       "      <td>40.24</td>\n",
       "      <td>NaN</td>\n",
       "      <td>NaN</td>\n",
       "      <td>NaN</td>\n",
       "      <td>NaN</td>\n",
       "      <td>NaN</td>\n",
       "      <td>NaN</td>\n",
       "    </tr>\n",
       "    <tr>\n",
       "      <th>2</th>\n",
       "      <td>Mario Kart Wii</td>\n",
       "      <td>Wii</td>\n",
       "      <td>2008.0</td>\n",
       "      <td>Racing</td>\n",
       "      <td>Nintendo</td>\n",
       "      <td>15.68</td>\n",
       "      <td>12.76</td>\n",
       "      <td>3.79</td>\n",
       "      <td>3.29</td>\n",
       "      <td>35.52</td>\n",
       "      <td>82.0</td>\n",
       "      <td>73.0</td>\n",
       "      <td>8.3</td>\n",
       "      <td>709.0</td>\n",
       "      <td>Nintendo</td>\n",
       "      <td>E</td>\n",
       "    </tr>\n",
       "    <tr>\n",
       "      <th>3</th>\n",
       "      <td>Wii Sports Resort</td>\n",
       "      <td>Wii</td>\n",
       "      <td>2009.0</td>\n",
       "      <td>Sports</td>\n",
       "      <td>Nintendo</td>\n",
       "      <td>15.61</td>\n",
       "      <td>10.93</td>\n",
       "      <td>3.28</td>\n",
       "      <td>2.95</td>\n",
       "      <td>32.77</td>\n",
       "      <td>80.0</td>\n",
       "      <td>73.0</td>\n",
       "      <td>8</td>\n",
       "      <td>192.0</td>\n",
       "      <td>Nintendo</td>\n",
       "      <td>E</td>\n",
       "    </tr>\n",
       "    <tr>\n",
       "      <th>4</th>\n",
       "      <td>Pokemon Red/Pokemon Blue</td>\n",
       "      <td>GB</td>\n",
       "      <td>1996.0</td>\n",
       "      <td>Role-Playing</td>\n",
       "      <td>Nintendo</td>\n",
       "      <td>11.27</td>\n",
       "      <td>8.89</td>\n",
       "      <td>10.22</td>\n",
       "      <td>1.00</td>\n",
       "      <td>31.37</td>\n",
       "      <td>NaN</td>\n",
       "      <td>NaN</td>\n",
       "      <td>NaN</td>\n",
       "      <td>NaN</td>\n",
       "      <td>NaN</td>\n",
       "      <td>NaN</td>\n",
       "    </tr>\n",
       "  </tbody>\n",
       "</table>\n",
       "</div>"
      ],
      "text/plain": [
       "                       Name Platform  Year_of_Release         Genre Publisher  \\\n",
       "0                Wii Sports      Wii           2006.0        Sports  Nintendo   \n",
       "1         Super Mario Bros.      NES           1985.0      Platform  Nintendo   \n",
       "2            Mario Kart Wii      Wii           2008.0        Racing  Nintendo   \n",
       "3         Wii Sports Resort      Wii           2009.0        Sports  Nintendo   \n",
       "4  Pokemon Red/Pokemon Blue       GB           1996.0  Role-Playing  Nintendo   \n",
       "\n",
       "   NA_Sales  EU_Sales  JP_Sales  Other_Sales  Global_Sales  Critic_Score  \\\n",
       "0     41.36     28.96      3.77         8.45         82.53          76.0   \n",
       "1     29.08      3.58      6.81         0.77         40.24           NaN   \n",
       "2     15.68     12.76      3.79         3.29         35.52          82.0   \n",
       "3     15.61     10.93      3.28         2.95         32.77          80.0   \n",
       "4     11.27      8.89     10.22         1.00         31.37           NaN   \n",
       "\n",
       "   Critic_Count User_Score  User_Count Developer Rating  \n",
       "0          51.0          8       322.0  Nintendo      E  \n",
       "1           NaN        NaN         NaN       NaN    NaN  \n",
       "2          73.0        8.3       709.0  Nintendo      E  \n",
       "3          73.0          8       192.0  Nintendo      E  \n",
       "4           NaN        NaN         NaN       NaN    NaN  "
      ]
     },
     "execution_count": 8,
     "metadata": {},
     "output_type": "execute_result"
    }
   ],
   "source": [
    "game.head()"
   ]
  },
  {
   "cell_type": "code",
   "execution_count": null,
   "id": "ec228d20-b2a3-4f98-afa3-dd00d5619d2f",
   "metadata": {},
   "outputs": [],
   "source": [
    "# We need to remove rows with missing values in 'Global_Sales' to ensure valid comparisons"
   ]
  },
  {
   "cell_type": "code",
   "execution_count": 10,
   "id": "b79745be-861a-4832-a970-a78a5787f65e",
   "metadata": {},
   "outputs": [],
   "source": [
    "game_clean = game.dropna(subset=['Global_Sales'])"
   ]
  },
  {
   "cell_type": "code",
   "execution_count": null,
   "id": "b8853f01-21b4-4108-9ea8-572775539046",
   "metadata": {},
   "outputs": [],
   "source": [
    "# Sort the DataFrame by 'Global_Sales' in descending order"
   ]
  },
  {
   "cell_type": "code",
   "execution_count": 11,
   "id": "1c234534-cc92-4fef-aca2-09cfc1faa0f4",
   "metadata": {},
   "outputs": [],
   "source": [
    "game_sorted = game_clean.sort_values(by='Global_Sales', ascending=False)"
   ]
  },
  {
   "cell_type": "code",
   "execution_count": null,
   "id": "c95719b1-da05-4494-8c4f-559f4c171ea9",
   "metadata": {},
   "outputs": [],
   "source": [
    "# To get the top 5 games by global sales"
   ]
  },
  {
   "cell_type": "code",
   "execution_count": 12,
   "id": "ec4c40fd-63dc-4ab4-a0ee-13b3443f599b",
   "metadata": {},
   "outputs": [
    {
     "name": "stdout",
     "output_type": "stream",
     "text": [
      "Top 5 Games by Global Sales:\n",
      "                       Name  Global_Sales\n",
      "0                Wii Sports         82.53\n",
      "1         Super Mario Bros.         40.24\n",
      "2            Mario Kart Wii         35.52\n",
      "3         Wii Sports Resort         32.77\n",
      "4  Pokemon Red/Pokemon Blue         31.37\n"
     ]
    }
   ],
   "source": [
    "top_5_games = game_sorted[['Name', 'Global_Sales']].head(5)\n",
    "print(\"Top 5 Games by Global Sales:\")\n",
    "print(top_5_games)"
   ]
  },
  {
   "cell_type": "code",
   "execution_count": null,
   "id": "099ce803-0ef5-42dc-9bb4-90c75552b9f1",
   "metadata": {},
   "outputs": [],
   "source": [
    "# NEW SECCTION"
   ]
  },
  {
   "cell_type": "code",
   "execution_count": null,
   "id": "19f6f4cf-e8ca-41a9-b0a8-836eda063d85",
   "metadata": {},
   "outputs": [],
   "source": []
  },
  {
   "cell_type": "code",
   "execution_count": null,
   "id": "ef04642d-1642-46e4-973e-7d78ec6d9bce",
   "metadata": {},
   "outputs": [],
   "source": [
    "# Now we filter the data between the years 2010 to 2014"
   ]
  },
  {
   "cell_type": "code",
   "execution_count": 13,
   "id": "83b4a34a-bc65-4d95-ab0b-86e307b28282",
   "metadata": {},
   "outputs": [],
   "source": [
    "game_filtered = game[(game['Year_of_Release'] >= 2010) & (game['Year_of_Release'] <= 2014)]"
   ]
  },
  {
   "cell_type": "code",
   "execution_count": null,
   "id": "1548088f-9fb3-4d4e-812b-e6a5302563be",
   "metadata": {},
   "outputs": [],
   "source": [
    "# Removing rows with missing values in 'NA_Sales' or 'JP_Sales'"
   ]
  },
  {
   "cell_type": "code",
   "execution_count": 14,
   "id": "ddf2909f-13ca-44f9-b983-3d466eabb3d3",
   "metadata": {},
   "outputs": [],
   "source": [
    "game_filtered_clean = game_filtered.dropna(subset=['NA_Sales', 'JP_Sales'])"
   ]
  },
  {
   "cell_type": "code",
   "execution_count": null,
   "id": "03ea8ce1-bb8b-4fa6-9288-9a81cd15f87e",
   "metadata": {},
   "outputs": [],
   "source": [
    "# We need to calculate the correlation between 'NA_Sales' and 'JP_Sales'"
   ]
  },
  {
   "cell_type": "code",
   "execution_count": 15,
   "id": "5dd8eb4c-df93-4c32-8da7-1ed9b62e3387",
   "metadata": {},
   "outputs": [
    {
     "name": "stdout",
     "output_type": "stream",
     "text": [
      "Correlation between NA_Sales and JP_Sales (2010-2014): 0.26\n"
     ]
    }
   ],
   "source": [
    "correlation = game_filtered_clean['NA_Sales'].corr(game_filtered_clean['JP_Sales'])\n",
    "print(f\"Correlation between NA_Sales and JP_Sales (2010-2014): {correlation:.2f}\")"
   ]
  },
  {
   "cell_type": "code",
   "execution_count": null,
   "id": "313e4727-20e0-44d5-ab21-0677f99f3652",
   "metadata": {},
   "outputs": [],
   "source": [
    "# Optional: Visualize the correlation using a scatter plot"
   ]
  },
  {
   "cell_type": "code",
   "execution_count": 16,
   "id": "7b162284-2d31-41c0-896d-a1cbf05a88c1",
   "metadata": {},
   "outputs": [
    {
     "data": {
      "image/png": "[encoded data removed]",
      "text/plain": [
       "<Figure size 1000x600 with 1 Axes>"
      ]
     },
     "metadata": {},
     "output_type": "display_data"
    }
   ],
   "source": [
    "plt.figure(figsize=(10, 6))\n",
    "sns.scatterplot(x='NA_Sales', y='JP_Sales', data=game_filtered_clean)\n",
    "plt.title('NA Sales vs JP Sales (2010-2014)')\n",
    "plt.xlabel('NA Sales (in millions)')\n",
    "plt.ylabel('JP Sales (in millions)')\n",
    "plt.axhline(0, color='grey', lw=1, ls='--')\n",
    "plt.axvline(0, color='grey', lw=1, ls='--')\n",
    "plt.grid()\n",
    "plt.show()"
   ]
  },
  {
   "cell_type": "code",
   "execution_count": null,
   "id": "3e5734ed-411a-4a43-aea4-98e5c99edb70",
   "metadata": {},
   "outputs": [],
   "source": []
  },
  {
   "cell_type": "code",
   "execution_count": null,
   "id": "1f2f6ca1-c9d9-4713-88b2-d7c2e7fe5463",
   "metadata": {},
   "outputs": [],
   "source": [
    "# DISTRIBUTION OF THE MOST POPULAR 4 GAMES GENRES"
   ]
  },
  {
   "cell_type": "code",
   "execution_count": null,
   "id": "b87d03f7-a6c3-47c6-91fa-6bb70e8419dc",
   "metadata": {},
   "outputs": [],
   "source": [
    "# Remove rows with missing values in 'Genre' or 'Global_Sales'"
   ]
  },
  {
   "cell_type": "code",
   "execution_count": 17,
   "id": "514d7bf4-99bd-46bc-8eec-470e576fda6a",
   "metadata": {},
   "outputs": [],
   "source": [
    "game_clean = game.dropna(subset=['Genre', 'Global_Sales'])"
   ]
  },
  {
   "cell_type": "code",
   "execution_count": null,
   "id": "ada442d3-a87c-430d-a7d4-dc11f30568c7",
   "metadata": {},
   "outputs": [],
   "source": [
    "# Group by 'Genre' and sum the 'Global_Sales' to find the total sales per genre"
   ]
  },
  {
   "cell_type": "code",
   "execution_count": 18,
   "id": "f90c0f13-2636-46be-97fe-4cb36bd29200",
   "metadata": {},
   "outputs": [],
   "source": [
    "genre_sales = game_clean.groupby('Genre')['Global_Sales'].sum().reset_index()"
   ]
  },
  {
   "cell_type": "code",
   "execution_count": null,
   "id": "e9296feb-7e80-4300-b3fc-e2fff48b5715",
   "metadata": {},
   "outputs": [],
   "source": [
    "# Sort the genres by total sales in descending order"
   ]
  },
  {
   "cell_type": "code",
   "execution_count": 19,
   "id": "4d78108b-02c7-46d2-8893-925881d37a9b",
   "metadata": {},
   "outputs": [],
   "source": [
    "top_genres = genre_sales.sort_values(by='Global_Sales', ascending=False).head(4)"
   ]
  },
  {
   "cell_type": "code",
   "execution_count": 20,
   "id": "d057898d-be83-43c3-baaf-6d4844c4fb6b",
   "metadata": {},
   "outputs": [
    {
     "name": "stdout",
     "output_type": "stream",
     "text": [
      "Top 4 Game Genres by Global Sales:\n",
      "           Genre  Global_Sales\n",
      "0         Action       1745.27\n",
      "10        Sports       1332.00\n",
      "8        Shooter       1052.94\n",
      "7   Role-Playing        934.40\n"
     ]
    }
   ],
   "source": [
    "# Display the top genres\n",
    "print(\"Top 4 Game Genres by Global Sales:\")\n",
    "print(top_genres)"
   ]
  },
  {
   "cell_type": "code",
   "execution_count": 21,
   "id": "7de832cc-0ca0-4e06-9bfa-1708d07fff84",
   "metadata": {},
   "outputs": [
    {
     "data": {
      "image/png": "[encoded data removed]",
      "text/plain": [
       "<Figure size 1000x600 with 1 Axes>"
      ]
     },
     "metadata": {},
     "output_type": "display_data"
    }
   ],
   "source": [
    "# Visualize the distribution of the top 4 game genres\n",
    "plt.figure(figsize=(10, 6))\n",
    "sns.barplot(x='Global_Sales', y='Genre', data=top_genres, palette='viridis')\n",
    "plt.title('Distribution of the Most Popular 4 Game Genres')\n",
    "plt.xlabel('Total Global Sales (in millions)')\n",
    "plt.ylabel('Game Genre')\n",
    "plt.grid(axis='x')\n",
    "plt.show()"
   ]
  },
  {
   "cell_type": "code",
   "execution_count": null,
   "id": "434fe6cb-a2c5-4a15-b2dc-d151a00464f5",
   "metadata": {},
   "outputs": [],
   "source": [
    "# Higher mean EU sales"
   ]
  },
  {
   "cell_type": "code",
   "execution_count": null,
   "id": "61a4f44e-7bfe-47e3-b4e6-cf7ac750c05f",
   "metadata": {},
   "outputs": [],
   "source": [
    "# Remove rows with missing values in 'Year_of_Release' or 'EU_Sales'"
   ]
  },
  {
   "cell_type": "code",
   "execution_count": 22,
   "id": "34b0f731-19da-4904-8694-836dc0b86362",
   "metadata": {},
   "outputs": [],
   "source": [
    "game_clean = game.dropna(subset=['Year_of_Release', 'EU_Sales'])"
   ]
  },
  {
   "cell_type": "code",
   "execution_count": null,
   "id": "b7a10f3a-625d-43f1-8df9-6f68b78a61a7",
   "metadata": {},
   "outputs": [],
   "source": [
    "# Convert 'Year_of_Release' to numeric, errors='coerce' will convert invalid parsing to NaN"
   ]
  },
  {
   "cell_type": "code",
   "execution_count": 23,
   "id": "5e24ee51-8fcd-4d30-9c47-2e8c337c001e",
   "metadata": {},
   "outputs": [
    {
     "name": "stderr",
     "output_type": "stream",
     "text": [
      "C:\\Users\\eroja\\AppData\\Local\\Temp\\ipykernel_53536\\263669568.py:1: SettingWithCopyWarning: \n",
      "A value is trying to be set on a copy of a slice from a DataFrame.\n",
      "Try using .loc[row_indexer,col_indexer] = value instead\n",
      "\n",
      "See the caveats in the documentation: https://pandas.pydata.org/pandas-docs/stable/user_guide/indexing.html#returning-a-view-versus-a-copy\n",
      "  game_clean['Year_of_Release'] = pd.to_numeric(game_clean['Year_of_Release'], errors='coerce')\n"
     ]
    }
   ],
   "source": [
    "game_clean['Year_of_Release'] = pd.to_numeric(game_clean['Year_of_Release'], errors='coerce')"
   ]
  },
  {
   "cell_type": "code",
   "execution_count": null,
   "id": "699cefca-139c-4fab-babd-388c3c4c1386",
   "metadata": {},
   "outputs": [],
   "source": [
    "# Filter the data into older and newer games"
   ]
  },
  {
   "cell_type": "code",
   "execution_count": 24,
   "id": "3f3c83e3-16bf-454e-bf69-994db453e77f",
   "metadata": {},
   "outputs": [],
   "source": [
    "older_games = game_clean[game_clean['Year_of_Release'] <= 2005]\n",
    "newer_games = game_clean[game_clean['Year_of_Release'] > 2005]"
   ]
  },
  {
   "cell_type": "code",
   "execution_count": null,
   "id": "96472a85-ef02-4437-ae59-3678b59deecd",
   "metadata": {},
   "outputs": [],
   "source": [
    "# Calculate the mean EU_Sales for both groups"
   ]
  },
  {
   "cell_type": "code",
   "execution_count": 25,
   "id": "ec936e72-7738-49e5-8bd2-6ecf38085eb0",
   "metadata": {},
   "outputs": [],
   "source": [
    "mean_eu_sales_older = older_games['EU_Sales'].mean()\n",
    "mean_eu_sales_newer = newer_games['EU_Sales'].mean()"
   ]
  },
  {
   "cell_type": "code",
   "execution_count": null,
   "id": "8af89ccf-0c96-48a5-af8d-3194f8bc9850",
   "metadata": {},
   "outputs": [],
   "source": [
    "# Display the results"
   ]
  },
  {
   "cell_type": "code",
   "execution_count": 26,
   "id": "cff9f30f-06a8-42d6-9f7c-76e2b222eb05",
   "metadata": {},
   "outputs": [
    {
     "name": "stdout",
     "output_type": "stream",
     "text": [
      "Mean EU Sales for Older Games (2005 and earlier): 0.15 million\n",
      "Mean EU Sales for Newer Games (after 2005): 0.14 million\n"
     ]
    }
   ],
   "source": [
    "print(f\"Mean EU Sales for Older Games (2005 and earlier): {mean_eu_sales_older:.2f} million\")\n",
    "print(f\"Mean EU Sales for Newer Games (after 2005): {mean_eu_sales_newer:.2f} million\")"
   ]
  },
  {
   "cell_type": "code",
   "execution_count": null,
   "id": "210d0248-14b3-45b9-a22c-0a727eb24873",
   "metadata": {},
   "outputs": [],
   "source": [
    "# Comparison"
   ]
  },
  {
   "cell_type": "code",
   "execution_count": 27,
   "id": "d7a1b98a-99d7-44c8-a9e8-091ac056ea21",
   "metadata": {},
   "outputs": [
    {
     "name": "stdout",
     "output_type": "stream",
     "text": [
      "Older games have a higher mean EU Sales than newer games.\n"
     ]
    }
   ],
   "source": [
    "if mean_eu_sales_older > mean_eu_sales_newer:\n",
    "    print(\"Older games have a higher mean EU Sales than newer games.\")\n",
    "elif mean_eu_sales_older < mean_eu_sales_newer:\n",
    "    print(\"Newer games have a higher mean EU Sales than older games.\")\n",
    "else:\n",
    "    print(\"Both older and newer games have the same mean EU Sales.\")"
   ]
  },
  {
   "cell_type": "raw",
   "id": "64c76dd2-99fc-49ac-aa55-4f17b23f6a9e",
   "metadata": {},
   "source": [
    "3 most common developer"
   ]
  },
  {
   "cell_type": "code",
   "execution_count": null,
   "id": "cf291a61-0c2b-46d1-9112-1bf275cf9061",
   "metadata": {},
   "outputs": [],
   "source": [
    "# Removing rows with missing values in 'Developer'"
   ]
  },
  {
   "cell_type": "code",
   "execution_count": 28,
   "id": "7d74bfbd-a286-41ac-bf72-2bc87b1d31bf",
   "metadata": {},
   "outputs": [],
   "source": [
    "game_clean = game.dropna(subset=['Developer'])"
   ]
  },
  {
   "cell_type": "code",
   "execution_count": null,
   "id": "74866a93-7e1e-491a-9314-c3baa774ae3d",
   "metadata": {},
   "outputs": [],
   "source": [
    "# Count occurrences of each developer"
   ]
  },
  {
   "cell_type": "code",
   "execution_count": 29,
   "id": "e91be05f-c341-4cb4-8ce4-e841f66a2d1b",
   "metadata": {},
   "outputs": [],
   "source": [
    "developer_counts = game_clean['Developer'].value_counts()"
   ]
  },
  {
   "cell_type": "code",
   "execution_count": null,
   "id": "4bc6e30a-d528-410b-92b5-55afa7a590c1",
   "metadata": {},
   "outputs": [],
   "source": [
    "# Get the top 3 most common developers"
   ]
  },
  {
   "cell_type": "code",
   "execution_count": 30,
   "id": "6a10b419-aaff-445f-bb9c-89ce0a80cdbb",
   "metadata": {},
   "outputs": [],
   "source": [
    "top_3_developers = developer_counts.head(3)"
   ]
  },
  {
   "cell_type": "code",
   "execution_count": null,
   "id": "3d2cf3e1-d14b-40e3-a9c3-026f335aa70d",
   "metadata": {},
   "outputs": [],
   "source": [
    "# Display the results"
   ]
  },
  {
   "cell_type": "code",
   "execution_count": 31,
   "id": "fc058d7b-fde3-47b0-8523-30333cd7ce30",
   "metadata": {},
   "outputs": [
    {
     "name": "stdout",
     "output_type": "stream",
     "text": [
      "Top 3 Most Common Developers:\n",
      "Developer\n",
      "Ubisoft      204\n",
      "EA Sports    172\n",
      "EA Canada    167\n",
      "Name: count, dtype: int64\n"
     ]
    }
   ],
   "source": [
    "print(\"Top 3 Most Common Developers:\")\n",
    "print(top_3_developers)"
   ]
  },
  {
   "cell_type": "code",
   "execution_count": null,
   "id": "0fd02bf9-084a-4acd-9aec-4cbc6396192f",
   "metadata": {},
   "outputs": [],
   "source": [
    "# Relation between critical score and global sales"
   ]
  },
  {
   "cell_type": "code",
   "execution_count": null,
   "id": "e0fb79ee-0f34-47a7-b29f-9d7a03e28130",
   "metadata": {},
   "outputs": [],
   "source": [
    "# Removing rows with missing values in 'Global_Sales' or 'Critic_Score'"
   ]
  },
  {
   "cell_type": "code",
   "execution_count": 32,
   "id": "c4d9d63f-e873-4597-bb9c-e83997aedab8",
   "metadata": {},
   "outputs": [],
   "source": [
    "game_clean = game.dropna(subset=['Global_Sales', 'Critic_Score'])"
   ]
  },
  {
   "cell_type": "code",
   "execution_count": null,
   "id": "ad6a4eff-7926-4416-9d03-53a6d5eca2a3",
   "metadata": {},
   "outputs": [],
   "source": [
    "# Convert 'Critic_Score' to numeric for analysis"
   ]
  },
  {
   "cell_type": "code",
   "execution_count": 33,
   "id": "6db081ee-1770-44ce-8c8b-498f1fba3312",
   "metadata": {},
   "outputs": [
    {
     "name": "stderr",
     "output_type": "stream",
     "text": [
      "C:\\Users\\eroja\\AppData\\Local\\Temp\\ipykernel_53536\\3894361012.py:1: SettingWithCopyWarning: \n",
      "A value is trying to be set on a copy of a slice from a DataFrame.\n",
      "Try using .loc[row_indexer,col_indexer] = value instead\n",
      "\n",
      "See the caveats in the documentation: https://pandas.pydata.org/pandas-docs/stable/user_guide/indexing.html#returning-a-view-versus-a-copy\n",
      "  game_clean['Critic_Score'] = pd.to_numeric(game_clean['Critic_Score'], errors='coerce')\n"
     ]
    }
   ],
   "source": [
    "game_clean['Critic_Score'] = pd.to_numeric(game_clean['Critic_Score'], errors='coerce')"
   ]
  },
  {
   "cell_type": "code",
   "execution_count": null,
   "id": "5ed27322-7fed-446a-81d9-edde9557cdb0",
   "metadata": {},
   "outputs": [],
   "source": [
    "# Calculate the correlation between Critic Score and Global Sales"
   ]
  },
  {
   "cell_type": "code",
   "execution_count": 34,
   "id": "b22b5215-2061-40a2-8c9a-c12ed81a6641",
   "metadata": {},
   "outputs": [],
   "source": [
    "correlation = game_clean['Critic_Score'].corr(game_clean['Global_Sales'])"
   ]
  },
  {
   "cell_type": "code",
   "execution_count": null,
   "id": "1f569e15-3957-4a0c-b083-33a1d6e48981",
   "metadata": {},
   "outputs": [],
   "source": [
    "# Display the correlation result"
   ]
  },
  {
   "cell_type": "code",
   "execution_count": 35,
   "id": "f93aefa4-408f-42d8-aae9-e28ba4d73b8e",
   "metadata": {},
   "outputs": [
    {
     "name": "stdout",
     "output_type": "stream",
     "text": [
      "Correlation between Critic Score and Global Sales: 0.25\n"
     ]
    }
   ],
   "source": [
    "print(f\"Correlation between Critic Score and Global Sales: {correlation:.2f}\")"
   ]
  },
  {
   "cell_type": "code",
   "execution_count": null,
   "id": "cfe6471a-1f9d-4b94-a14b-36ae2b309869",
   "metadata": {},
   "outputs": [],
   "source": [
    "# Visualize the relationship using a scatter plot"
   ]
  },
  {
   "cell_type": "code",
   "execution_count": 36,
   "id": "eec3ce04-6eec-4c42-bc26-654a75692c67",
   "metadata": {},
   "outputs": [
    {
     "data": {
      "image/png": "[encoded data removed]",
      "text/plain": [
       "<Figure size 1000x600 with 1 Axes>"
      ]
     },
     "metadata": {},
     "output_type": "display_data"
    }
   ],
   "source": [
    "plt.figure(figsize=(10, 6))\n",
    "sns.scatterplot(data=game_clean, x='Critic_Score', y='Global_Sales', alpha=0.6)\n",
    "plt.title('Relationship between Critic Score and Global Sales')\n",
    "plt.xlabel('Critic Score')\n",
    "plt.ylabel('Global Sales (in millions)')\n",
    "plt.grid(True)\n",
    "plt.axhline(y=0, color='r', linestyle='--', linewidth=0.7)  # Add a horizontal line at y=0\n",
    "plt.axvline(x=0, color='r', linestyle='--', linewidth=0.7)  # Add a vertical line at x=0\n",
    "plt.show()"
   ]
  },
  {
   "cell_type": "code",
   "execution_count": null,
   "id": "a6502665-2fd3-4fa9-9065-b92bb6e50b12",
   "metadata": {},
   "outputs": [],
   "source": []
  },
  {
   "cell_type": "code",
   "execution_count": null,
   "id": "c043cab0-354c-4fcc-a20a-42a862241114",
   "metadata": {},
   "outputs": [],
   "source": []
  },
  {
   "cell_type": "code",
   "execution_count": null,
   "id": "0d3185ed-6d47-41b0-876d-2f202de17964",
   "metadata": {},
   "outputs": [],
   "source": []
  },
  {
   "cell_type": "code",
   "execution_count": null,
   "id": "9de8885e-9dc9-4c42-bb5e-df62c8db9197",
   "metadata": {},
   "outputs": [],
   "source": []
  }
 ],
 "metadata": {
  "kernelspec": {
   "display_name": "Python 3 (ipykernel)",
   "language": "python",
   "name": "python3"
  },
  "language_info": {
   "codemirror_mode": {
    "name": "ipython",
    "version": 3
   },
   "file_extension": ".py",
   "mimetype": "text/x-python",
   "name": "python",
   "nbconvert_exporter": "python",
   "pygments_lexer": "ipython3",
   "version": "3.11.7"
  }
 },
 "nbformat": 4,
 "nbformat_minor": 5
}
